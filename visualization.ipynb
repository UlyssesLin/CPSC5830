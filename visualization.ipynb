{
 "cells": [
  {
   "cell_type": "code",
   "execution_count": 312,
   "metadata": {},
   "outputs": [],
   "source": [
    "import pandas as pd\n",
    "import matplotlib.pyplot as plt\n",
    "import networkx as nx\n",
    "\n",
    "MAX_EVENT_DISPLAY = 8 # custom number of neighbors to display\n",
    "TEAM_NODE_A = 1740 # home team node to focus on and see neighbors of\n",
    "FIG_SIZE = 5 # graph display size"
   ]
  },
  {
   "cell_type": "code",
   "execution_count": 183,
   "metadata": {},
   "outputs": [],
   "source": [
    "df = pd.read_csv('data/processed/lol/events.csv')"
   ]
  },
  {
   "cell_type": "code",
   "execution_count": 313,
   "metadata": {},
   "outputs": [
    {
     "data": {
      "text/plain": [
       "[(1740, 1455, {'edge_type': 1, 'weight': 1}),\n",
       " (2627, 1740, {'edge_type': 3, 'weight': 1}),\n",
       " (1740, 2627, {'edge_type': 4, 'weight': 1}),\n",
       " (3493, 1740, {'edge_type': 3, 'weight': 1}),\n",
       " (5002, 1740, {'edge_type': 3, 'weight': 1}),\n",
       " (6746, 1740, {'edge_type': 3, 'weight': 1}),\n",
       " (9932, 1740, {'edge_type': 3, 'weight': 1}),\n",
       " (1740, 9932, {'edge_type': 4, 'weight': 1})]"
      ]
     },
     "execution_count": 313,
     "metadata": {},
     "output_type": "execute_result"
    }
   ],
   "source": [
    "selectedTeam = df.loc[df['u'] == TEAM_NODE_A, ['u', 'v', 'u_type', 'v_type', 'e_type']].head(MAX_EVENT_DISPLAY)\n",
    "teamTypeDF = selectedTeam.drop_duplicates()\n",
    "us = list(teamTypeDF[['u', 'u_type']].itertuples(index=False, name=None))\n",
    "vs = list(teamTypeDF[['v', 'v_type']].itertuples(index=False, name=None))\n",
    "nodesList = list(list(dict.fromkeys(us + vs)))\n",
    "nodesList = list(map(lambda x: (x[0], {'Type': x[1]}), nodesList))\n",
    "edgeUV = list(selectedTeam[['u', 'v']].itertuples(index=False, name=None))\n",
    "edgesWithDups = selectedTeam.groupby(selectedTeam.columns.tolist(),as_index=False).size()\n",
    "edgesWithDupsList = list(edgesWithDups[['u', 'v', 'e_type', 'size']].itertuples(index=False, name=None))\n",
    "# Change arrow display direction if edge type is 3 (to show player joining team):\n",
    "edgesWithDupsList = list(map(lambda x: (x[1] if x[2] == 3 else x[0], x[0] if x[2] == 3 else x[1], {'edge_type': x[2], 'weight': x[3]}), edgesWithDupsList))\n",
    "edgesWithDupsList"
   ]
  },
  {
   "cell_type": "code",
   "execution_count": 314,
   "metadata": {},
   "outputs": [
    {
     "data": {
      "image/png": "[encoded data removed]",
      "text/plain": [
       "<Figure size 500x500 with 1 Axes>"
      ]
     },
     "metadata": {},
     "output_type": "display_data"
    }
   ],
   "source": [
    "focusGraph = nx.DiGraph()\n",
    "\n",
    "colorMap = {\n",
    "    1: 'red',\n",
    "    2: 'orange'\n",
    "}\n",
    "\n",
    "edgeColorMap = {\n",
    "    1: 'red',\n",
    "    2: 'green',\n",
    "    3: 'cyan',\n",
    "    4: 'gray'\n",
    "}\n",
    "\n",
    "# arrowMap = {\n",
    "#     1: '<-',\n",
    "#     2: '<-',\n",
    "#     3: '->',\n",
    "#     4: '-'\n",
    "# }\n",
    "\n",
    "focusGraph.add_nodes_from(nodesList)\n",
    "focusGraph.add_edges_from(edgesWithDupsList)\n",
    "\n",
    "colorValues = [colorMap.get(focusGraph.nodes[node]['Type'], 'blue') for node in focusGraph.nodes()]\n",
    "edgeColorValues = [edgeColorMap.get(focusGraph.edges[edge]['edge_type'], 'black') for edge in focusGraph.edges()]\n",
    "\n",
    "options = {\n",
    "    'arrowstyle': '->',\n",
    "    'arrowsize': 8\n",
    "}\n",
    "\n",
    "fig = plt.figure(figsize=(FIG_SIZE, FIG_SIZE))\n",
    "nx.draw_networkx(\n",
    "    focusGraph,\n",
    "    # pos=pos,\n",
    "    arrows=True,\n",
    "    **options,\n",
    "    with_labels=True,\n",
    "    node_color=colorValues,\n",
    "    edge_color=edgeColorValues,\n",
    "    node_size=500,\n",
    "    font_color=\"white\",\n",
    "    font_size=10,\n",
    "    font_family=\"Times New Roman\",\n",
    "    font_weight=\"bold\",\n",
    "    width=2)\n",
    "\n",
    "# plt.margins(0.2)\n",
    "plt.show()"
   ]
  }
 ],
 "metadata": {
  "kernelspec": {
   "display_name": "Python 3",
   "language": "python",
   "name": "python3"
  },
  "language_info": {
   "codemirror_mode": {
    "name": "ipython",
    "version": 3
   },
   "file_extension": ".py",
   "mimetype": "text/x-python",
   "name": "python",
   "nbconvert_exporter": "python",
   "pygments_lexer": "ipython3",
   "version": "3.9.2"
  }
 },
 "nbformat": 4,
 "nbformat_minor": 2
}
