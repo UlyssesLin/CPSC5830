{
 "cells": [
  {
   "cell_type": "code",
   "execution_count": 1,
   "metadata": {},
   "outputs": [
    {
     "name": "stderr",
     "output_type": "stream",
     "text": [
      "/tmp/ipykernel_26591/1667792153.py:16: DtypeWarning: Columns (2) have mixed types. Specify dtype option on import or set low_memory=False.\n",
      "  df = (pd.concat((pd.read_csv(f) for f in all_files), ignore_index=True)\n",
      "/tmp/ipykernel_26591/1667792153.py:16: DtypeWarning: Columns (2) have mixed types. Specify dtype option on import or set low_memory=False.\n",
      "  df = (pd.concat((pd.read_csv(f) for f in all_files), ignore_index=True)\n"
     ]
    }
   ],
   "source": [
    "import pandas as pd\n",
    "import numpy as np\n",
    "import json\n",
    "import glob\n",
    "import os\n",
    "\n",
    "import category_encoders as ce\n",
    "\n",
    "OUT_DIR = './data/processed/lol'\n",
    "OUT_EV = f'{OUT_DIR}/events.csv'\n",
    "OUT_DESC = f'{OUT_DIR}/desc.json'\n",
    "OUT_EDGE_FEAT = f'{OUT_DIR}/edge_ft.npy'\n",
    "IN_DIR = './data/raw/lol'\n",
    "\n",
    "all_files = glob.glob(os.path.join(IN_DIR, '*.csv'))\n",
    "df = (pd.concat((pd.read_csv(f) for f in all_files), ignore_index=True)\n",
    "      .assign(ts = lambda _d: (pd.to_datetime(_d['date']).astype(int) / 10**9).astype(int)))\n",
    "\n",
    "team_cols = ['patch', 'towers', 'barons', 'inhibitors', 'dragons', 'opp_towers', 'opp_barons', 'opp_inhibitors', 'opp_dragons']\n",
    "player_cols = ['position', 'champion', 'kills', 'deaths', 'assists', 'firstblood', 'damagetochampions', 'wardsplaced',\n",
    "              'wardskilled', 'controlwardsbought', 'earnedgold', 'total cs', 'golddiffat10', 'xpdiffat10', 'csdiffat10',\n",
    "              'killsat10', 'assistsat10', 'deathsat10', 'golddiffat15', 'xpdiffat15', 'csdiffat15', 'killsat15', 'assistsat15', 'deathsat15']\n",
    "\n",
    "matches_normal_cols = ['patch', 'towers', 'barons', 'inhibitors', 'dragons', 'opp_towers', 'opp_barons', 'opp_inhibitors', 'opp_dragons']\n",
    "player_normal_cols = ['kills', 'deaths', 'assists', 'firstblood', 'damagetochampions', 'wardsplaced', 'wardskilled', 'controlwardsbought',\n",
    "                      'earnedgold', 'total cs', 'golddiffat10', 'xpdiffat10', 'csdiffat10', 'killsat10', 'assistsat10', 'deathsat10',\n",
    "                      'golddiffat15', 'xpdiffat15', 'csdiffat15', 'killsat15', 'assistsat15', 'deathsat15']"
   ]
  },
  {
   "cell_type": "code",
   "execution_count": 2,
   "metadata": {},
   "outputs": [],
   "source": [
    "home = df.loc[df['side'] == 'Blue', ['teamid', 'gameid', 'result', 'ts', 'gamelength']].dropna().drop_duplicates()\n",
    "away = df.loc[df['side'] == 'Red', ['teamid', 'gameid']].dropna().drop_duplicates()"
   ]
  },
  {
   "cell_type": "code",
   "execution_count": 3,
   "metadata": {},
   "outputs": [],
   "source": [
    "matches = home.merge(away, how='inner', on='gameid')\n",
    "players = df.loc[df['gameid'].isin(matches['gameid'].unique()), ['teamid', 'playerid', 'ts']].dropna().drop_duplicates()"
   ]
  },
  {
   "cell_type": "code",
   "execution_count": 4,
   "metadata": {},
   "outputs": [],
   "source": [
    "homefeat = df.loc[df['side'] == 'Blue', ['teamid', 'gameid', 'result', 'ts', 'gamelength'] + team_cols].dropna().drop_duplicates()\n",
    "awayfeat = df.loc[df['side'] == 'Red', ['teamid', 'gameid']].dropna().drop_duplicates()\n",
    "matchesfeat = homefeat.merge(awayfeat, how='inner', on='gameid')\n",
    "playersfeat = df.loc[df['gameid'].isin(matchesfeat['gameid'].unique()), ['teamid', 'playerid', 'ts', 'gamelength'] + player_cols].dropna().drop_duplicates()"
   ]
  },
  {
   "cell_type": "code",
   "execution_count": 5,
   "metadata": {},
   "outputs": [],
   "source": [
    "matches = (matches\n",
    "           .assign(ts = lambda _d: _d['ts'] + 1)\n",
    "           .rename(columns={'teamid_x': 'u', 'teamid_y': 'v', 'result': 'e_type'})\n",
    "           .assign(e_type = lambda _d: _d['e_type'] + 1)\n",
    "           .assign(u_type = 1)\n",
    "           .assign(v_type = 1)\n",
    "           [['u', 'v', 'ts', 'e_type', 'u_type', 'v_type']]\n",
    "           .reset_index(drop=True))\n",
    "\n",
    "players = (players\n",
    "           .assign(e_type = 3)\n",
    "           .assign(u_type = 1)\n",
    "           .assign(v_type = 2)\n",
    "           .rename(columns={'teamid': 'u', 'playerid': 'v'})\n",
    "           .reset_index(drop=True))"
   ]
  },
  {
   "cell_type": "code",
   "execution_count": 6,
   "metadata": {},
   "outputs": [],
   "source": [
    "matchesfeat = (matchesfeat\n",
    "               .assign(ts = lambda _d: _d['ts'] + _d['gamelength'] + 1)\n",
    "               .rename(columns={'teamid_x': 'u', 'teamid_y': 'v', 'result': 'e_type'})\n",
    "               .assign(e_type = 4)\n",
    "               .assign(u_type = 1)\n",
    "               .assign(v_type = 1)\n",
    "               .drop(columns=['gameid', 'gamelength'])\n",
    "               .reset_index(drop=True))\n",
    "\n",
    "playersfeat = (playersfeat\n",
    "               .assign(ts = lambda _d: _d['ts'] + _d['gamelength'] + 1)\n",
    "               .assign(e_type = 4)\n",
    "               .assign(u_type = 1)\n",
    "               .assign(v_type = 2)\n",
    "               .rename(columns={'teamid': 'u', 'playerid': 'v'})\n",
    "               .drop(columns=['gamelength'])\n",
    "               .reset_index(drop=True))"
   ]
  },
  {
   "cell_type": "code",
   "execution_count": 7,
   "metadata": {},
   "outputs": [],
   "source": [
    "teams = pd.concat([matches['u'], matches['v']]).sort_values().unique()\n",
    "idx_teams = np.arange(len(teams))\n",
    "teams_dict = {teams[k]: k for k in idx_teams}\n",
    "\n",
    "player = players['v'].sort_values().unique()\n",
    "idx_player = np.arange(len(player))\n",
    "player_dict = {player[k]: k + len(teams) for k in idx_player}"
   ]
  },
  {
   "cell_type": "code",
   "execution_count": 8,
   "metadata": {},
   "outputs": [],
   "source": [
    "matches = (matches\n",
    "           .assign(u = lambda _d: _d['u'].map(lambda x: teams_dict[x]))\n",
    "           .assign(v = lambda _d: _d['v'].map(lambda x: teams_dict[x])))\n",
    "\n",
    "players = (players\n",
    "           .assign(u = lambda _d: _d['u'].map(lambda x: teams_dict[x]))\n",
    "           .assign(v = lambda _d: _d['v'].map(lambda x: player_dict[x])))"
   ]
  },
  {
   "cell_type": "code",
   "execution_count": 9,
   "metadata": {},
   "outputs": [],
   "source": [
    "matchesfeat = (matchesfeat\n",
    "           .assign(u = lambda _d: _d['u'].map(lambda x: teams_dict[x]))\n",
    "           .assign(v = lambda _d: _d['v'].map(lambda x: teams_dict[x])))\n",
    "\n",
    "playersfeat = (playersfeat\n",
    "           .assign(u = lambda _d: _d['u'].map(lambda x: teams_dict[x]))\n",
    "           .assign(v = lambda _d: _d['v'].map(lambda x: player_dict[x])))"
   ]
  },
  {
   "cell_type": "code",
   "execution_count": 10,
   "metadata": {},
   "outputs": [],
   "source": [
    "matchesfeat[matches_normal_cols] = matchesfeat[matches_normal_cols].apply(lambda x: (x - x.min()) / (x.max() - x.min()))\n",
    "playersfeat[player_normal_cols] = playersfeat[player_normal_cols].apply(lambda x: (x - x.min()) / (x.max() - x.min()))\n",
    "\n",
    "encoder = ce.BinaryEncoder(cols=['champion', 'position'], return_df=True)\n",
    "encoded_df = encoder.fit_transform(playersfeat[['champion', 'position']])\n",
    "\n",
    "playersfeat = (pd.concat([playersfeat, encoded_df], axis=1).drop(columns=['champion', 'position']))"
   ]
  },
  {
   "cell_type": "code",
   "execution_count": 11,
   "metadata": {},
   "outputs": [],
   "source": [
    "events = pd.concat([matches, players, matchesfeat, playersfeat]).sort_values('ts').reset_index(drop=True).fillna(0)"
   ]
  },
  {
   "cell_type": "code",
   "execution_count": 12,
   "metadata": {},
   "outputs": [],
   "source": [
    "e_ft = events.iloc[:, 6:].values\n",
    "max_dim = e_ft.shape[1]\n",
    "max_dim = max_dim + 4 - (max_dim % 4)\n",
    "empty = np.zeros((e_ft.shape[0], max_dim-e_ft.shape[1]))\n",
    "e_ft = np.hstack([e_ft, empty])\n",
    "e_feat = np.vstack([np.zeros(max_dim), e_ft])"
   ]
  },
  {
   "cell_type": "code",
   "execution_count": 13,
   "metadata": {},
   "outputs": [],
   "source": [
    "NUM_NODE = len(player) + len(teams)\n",
    "NUM_EV = len(events)\n",
    "NUM_N_TYPE = 2\n",
    "NUM_E_TYPE = 4"
   ]
  },
  {
   "cell_type": "code",
   "execution_count": 14,
   "metadata": {},
   "outputs": [],
   "source": [
    "events = (events\n",
    "          .assign(e_idx = np.arange(1, NUM_EV + 1))\n",
    "          [['u', 'v', 'u_type', 'v_type', 'e_type', 'ts', 'e_idx']])"
   ]
  },
  {
   "cell_type": "code",
   "execution_count": 15,
   "metadata": {},
   "outputs": [
    {
     "name": "stdout",
     "output_type": "stream",
     "text": [
      "num node: 10527\n",
      "num events: 1454385\n"
     ]
    }
   ],
   "source": [
    "print(\"num node:\", NUM_NODE)\n",
    "print(\"num events:\", NUM_EV)\n",
    "np.save(OUT_EDGE_FEAT, e_feat)\n",
    "events.to_csv(OUT_EV, index=None)\n",
    "desc = {\n",
    "        \"num_node\": NUM_NODE,\n",
    "        \"num_edge\": NUM_EV,\n",
    "        \"num_node_type\": NUM_N_TYPE,\n",
    "        \"num_edge_type\": NUM_E_TYPE\n",
    "    }\n",
    "with open(OUT_DESC, 'w') as f:\n",
    "    json.dump(desc, f, indent=4)"
   ]
  }
 ],
 "metadata": {
  "kernelspec": {
   "display_name": "venv",
   "language": "python",
   "name": "python3"
  },
  "language_info": {
   "codemirror_mode": {
    "name": "ipython",
    "version": 3
   },
   "file_extension": ".py",
   "mimetype": "text/x-python",
   "name": "python",
   "nbconvert_exporter": "python",
   "pygments_lexer": "ipython3",
   "version": "3.10.12"
  }
 },
 "nbformat": 4,
 "nbformat_minor": 2
}
