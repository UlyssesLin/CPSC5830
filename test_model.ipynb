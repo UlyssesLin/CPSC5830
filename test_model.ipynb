{
 "cells": [
  {
   "cell_type": "code",
   "execution_count": null,
   "metadata": {},
   "outputs": [],
   "source": [
    "import pandas as pd\n",
    "import torch\n",
    "import numpy as np\n",
    "\n",
    "from model.module import THAN"
   ]
  },
  {
   "cell_type": "code",
   "execution_count": null,
   "metadata": {},
   "outputs": [],
   "source": [
    "MODEL_SAVE_PATH = f'./saved_models/{args.prefix}-{args.data}.pth'\n",
    "NUM_NEIGHBORS = 10"
   ]
  },
  {
   "cell_type": "code",
   "execution_count": null,
   "metadata": {},
   "outputs": [],
   "source": [
    "def eval_one_epoch(model: THAN, batch_sampler, data):\n",
    "    with torch.no_grad():\n",
    "        model = model.eval()\n",
    "        batch_sampler.reset()\n",
    "        while True:\n",
    "            batches, counts, classes = batch_sampler.get_batch_index()\n",
    "            if counts is None or counts.sum()==0:\n",
    "                break\n",
    "            tiles = len(batches)\n",
    "            l = int(counts.sum() * tiles)\n",
    "\n",
    "            src_l_cut = np.empty(l, dtype=int)\n",
    "            dst_l_cut = np.empty(l, dtype=int)\n",
    "            ts_l_cut = np.empty(l, dtype=int)\n",
    "            src_utype_l_cut = np.empty(l, dtype=int)\n",
    "            dst_utype_l_cut = np.empty(l, dtype=int)\n",
    "            etype_l = np.empty(l, dtype=int)\n",
    "            lbls = np.empty(l)\n",
    "            s_idx = 0\n",
    "            for i, batch in enumerate(batches):\n",
    "                e_idx = s_idx + int(counts[i] * tiles)\n",
    "                src_l_cut[s_idx: e_idx] = np.tile(data.src_l[batch], tiles)\n",
    "                dst_l_cut[s_idx: e_idx] = np.tile(data.dst_l[batch], tiles)\n",
    "                ts_l_cut[s_idx: e_idx] = np.tile(data.ts_l[batch], tiles)\n",
    "                src_utype_l_cut[s_idx: e_idx] = np.tile(data.u_type_l[batch],\n",
    "                                                        tiles)\n",
    "                dst_utype_l_cut[s_idx: e_idx] = np.tile(data.v_type_l[batch],\n",
    "                                                        tiles)\n",
    "                etype_slice = np.repeat(classes, len(batch))\n",
    "                etype_l[s_idx: e_idx] = etype_slice\n",
    "                lbls[s_idx: e_idx] = (etype_slice == classes[i]).astype(np.float64)\n",
    "                s_idx = e_idx\n",
    "\n",
    "            prob = model.link_contrast(src_l_cut, dst_l_cut, ts_l_cut,\n",
    "                                       src_utype_l_cut, dst_utype_l_cut,\n",
    "                                       etype_l, lbls, NUM_NEIGHBORS)\n",
    "\n",
    "    return prob"
   ]
  },
  {
   "cell_type": "code",
   "execution_count": null,
   "metadata": {},
   "outputs": [],
   "source": [
    "model = torch.load(MODEL_SAVE_PATH)"
   ]
  }
 ],
 "metadata": {
  "language_info": {
   "name": "python"
  }
 },
 "nbformat": 4,
 "nbformat_minor": 2
}
