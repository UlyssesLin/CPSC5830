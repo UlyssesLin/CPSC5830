{
 "cells": [
  {
   "cell_type": "code",
   "execution_count": 1,
   "metadata": {},
   "outputs": [],
   "source": [
    "import torch\n",
    "import glob\n",
    "import os\n",
    "import pandas as pd\n",
    "import numpy as np\n",
    "import altair as alt\n",
    "import model.loader as loader\n",
    "import matplotlib.pyplot as plt\n",
    "\n",
    "from sklearn.metrics import average_precision_score\n",
    "from sklearn.metrics import roc_auc_score\n",
    "from sklearn.metrics import confusion_matrix\n",
    "from sklearn.metrics import classification_report\n",
    "\n",
    "from model.module import THAN\n",
    "from model.loader import MiniBatchSampler"
   ]
  },
  {
   "cell_type": "code",
   "execution_count": 2,
   "metadata": {},
   "outputs": [],
   "source": [
    "MODEL_PREFIX = 'THAN-mem'\n",
    "DATA = 'soccer'\n",
    "MODEL_SAVE_PATH = f'./saved_models/{MODEL_PREFIX}-{DATA}.pth'\n",
    "NUM_NEIGHBORS = 10\n",
    "N_DIM = 32\n",
    "E_DIM = 16\n",
    "T_DIM = 32\n",
    "BATCH_SIZE = 200\n",
    "NUM_LAYER = 1\n",
    "NUM_HEADS = 4\n",
    "DROPOUT = 0.1\n",
    "GPU = -1\n",
    "\n",
    "device = torch.device('cuda:{}'.format(GPU)) if GPU != -1 else 'cpu'"
   ]
  },
  {
   "cell_type": "code",
   "execution_count": 3,
   "metadata": {},
   "outputs": [],
   "source": [
    "def plot_confusion_matrix(confusion_mat, cln):\n",
    "    plt.imshow(confusion_mat, interpolation='nearest', cmap=plt.cm.gray)\n",
    "    plt.title('Confusion Matrix')\n",
    "    plt.colorbar()\n",
    "    tick_marks = np.arange(cln)\n",
    "    plt.xticks(tick_marks, tick_marks)\n",
    "    plt.yticks(tick_marks, tick_marks)\n",
    "    plt.ylabel('True label')\n",
    "    plt.xlabel('Predicted label')\n",
    "    plt.show()\n",
    "\n",
    "def evaluate_score(labels, prob):\n",
    "    pred_score = np.array((prob).cpu().detach().numpy())\n",
    "\n",
    "    auc = roc_auc_score(labels, pred_score)\n",
    "    ap = average_precision_score(labels, pred_score)\n",
    "    return ap, auc\n",
    "\n",
    "def eval_one_epoch(model: THAN, batch_sampler, data):\n",
    "    val_ap, val_auc = [], []\n",
    "    with torch.no_grad():\n",
    "        model = model.eval()\n",
    "        batch_sampler.reset()\n",
    "        r_prob, r_lbls, r_src, r_dst, r_ts = [], [], [], [], []\n",
    "        r_lab = []\n",
    "        while True:\n",
    "            batches, counts, classes = batch_sampler.get_batch_index()\n",
    "            if counts is None or counts.sum()==0:\n",
    "                break\n",
    "            tiles = len(batches)\n",
    "            l = int(counts.sum() * tiles)\n",
    "\n",
    "            src_l_cut = np.empty(l, dtype=int)\n",
    "            dst_l_cut = np.empty(l, dtype=int)\n",
    "            ts_l_cut = np.empty(l, dtype=int)\n",
    "            src_utype_l_cut = np.empty(l, dtype=int)\n",
    "            dst_utype_l_cut = np.empty(l, dtype=int)\n",
    "            etype_l = np.empty(l, dtype=int)\n",
    "            lbls = np.empty(l)\n",
    "            s_idx = 0\n",
    "            for i, batch in enumerate(batches):\n",
    "                e_idx = s_idx + int(counts[i] * tiles)\n",
    "                src_l_cut[s_idx: e_idx] = np.repeat(data.src_l[batch], tiles)\n",
    "                dst_l_cut[s_idx: e_idx] = np.repeat(data.dst_l[batch], tiles)\n",
    "                ts_l_cut[s_idx: e_idx] = np.repeat(data.ts_l[batch], tiles)\n",
    "                src_utype_l_cut[s_idx: e_idx] = np.repeat(data.u_type_l[batch],\n",
    "                                                        tiles)\n",
    "                dst_utype_l_cut[s_idx: e_idx] = np.repeat(data.v_type_l[batch],\n",
    "                                                        tiles)\n",
    "                etype_slice = np.tile(classes, len(batch))\n",
    "                etype_l[s_idx: e_idx] = etype_slice\n",
    "                lbls[s_idx: e_idx] = (etype_slice == classes[i]).astype(np.float64)\n",
    "                s_idx = e_idx\n",
    "\n",
    "            prob = model.link_contrast(src_l_cut, dst_l_cut, ts_l_cut,\n",
    "                                       src_utype_l_cut, dst_utype_l_cut,\n",
    "                                       etype_l, lbls, NUM_NEIGHBORS)\n",
    "            prob = prob.reshape((len(prob) // tiles, tiles))\n",
    "            prob = prob / prob.sum(1, keepdim=True)\n",
    "            lbls = lbls.reshape((len(lbls) // tiles, tiles))\n",
    "            ap, auc = evaluate_score(lbls, prob)\n",
    "            prob = prob.reshape(len(prob) * tiles)\n",
    "            lbls = lbls.reshape(len(lbls) * tiles)\n",
    "\n",
    "            r_prob = np.concatenate([r_prob, prob])\n",
    "            r_lbls = np.concatenate([r_lbls, etype_l])\n",
    "            r_src = np.concatenate([r_src, src_l_cut])\n",
    "            r_dst = np.concatenate([r_dst, dst_l_cut])\n",
    "            r_ts = np.concatenate([r_ts, ts_l_cut])\n",
    "            r_lab = np.concatenate([r_lab, lbls])\n",
    "            val_ap.append(ap)\n",
    "            val_auc.append(auc)\n",
    "    print(np.mean(val_auc), np.mean(val_ap))\n",
    "    return r_prob, r_lbls, r_src, r_dst, r_ts, r_lab"
   ]
  },
  {
   "cell_type": "code",
   "execution_count": 4,
   "metadata": {},
   "outputs": [
    {
     "data": {
      "text/plain": [
       "<All keys matched successfully>"
      ]
     },
     "execution_count": 4,
     "metadata": {},
     "output_type": "execute_result"
    }
   ],
   "source": [
    "g, _, _, _, test, p_classes = loader.load_and_split_data_train_test_val(DATA, N_DIM, E_DIM)\n",
    "val_ngh_finder = loader.get_neighbor_finder(g, g.max_idx, num_edge_type=g.num_e_type)\n",
    "val_batch_sampler = MiniBatchSampler(test.e_type_l, BATCH_SIZE, 'test', p_classes)\n",
    "\n",
    "model = THAN(val_ngh_finder, g.n_feat, g.e_feat, g.e_type_feat, g.num_n_type, g.num_e_type, T_DIM, num_layers=NUM_LAYER, n_head=NUM_HEADS, dropout=DROPOUT, device=device)\n",
    "model.load_state_dict(torch.load(MODEL_SAVE_PATH))"
   ]
  },
  {
   "cell_type": "code",
   "execution_count": 5,
   "metadata": {},
   "outputs": [
    {
     "name": "stdout",
     "output_type": "stream",
     "text": [
      "0.5781248699695506 0.4133274916698085\n"
     ]
    }
   ],
   "source": [
    "prob, lbls, src_l, dst_l, ts_l, lab = eval_one_epoch(model, val_batch_sampler, test)\n",
    "preddict = {'prob': prob, 'lbl': lbls, 'src_id': src_l, 'dst_id': dst_l, 'ts': ts_l, 'lab': lab}\n",
    "preds = pd.DataFrame(preddict)\n",
    "preds['ts'] = preds['ts'] - 1"
   ]
  },
  {
   "cell_type": "code",
   "execution_count": 6,
   "metadata": {},
   "outputs": [],
   "source": [
    "'''NBA'''\n",
    "if DATA == 'nba':\n",
    "    matches = pd.read_csv('./data/raw/nba/games.csv').assign(ts = lambda _d: (pd.to_datetime(_d['game_date']).astype(int) / 10**9))\n",
    "    team_dict = pd.read_csv('./data/processed/nba/teams_dict.csv')\n",
    "    team_dict = team_dict.rename(columns={'Unnamed: 0': 'team_id', '0': 'id'})\n",
    "\n",
    "    matches = pd.merge(matches, team_dict, how='left', left_on='team_id_home', right_on='team_id')\n",
    "    matches = pd.merge(matches, team_dict, how='left', left_on='team_id_away', right_on='team_id')\n",
    "\n",
    "    match_pred = pd.merge(matches, preds, left_on=['id_x', 'id_y', 'ts'], right_on=['src_id', 'dst_id', 'ts'])\n",
    "    match_pred = match_pred.sort_values('prob', ascending=False).drop_duplicates('game_id')\n",
    "    match_pred['label'] = match_pred['wl_home'].map({'W': 1, 'L': 0})\n",
    "\n",
    "'''Soccer'''\n",
    "if DATA == 'soccer':\n",
    "    matches = pd.read_csv('./data/raw/soccer/matches.csv').assign(ts = lambda _d: (pd.to_datetime(_d['date']).astype(int) / 10**9)).drop(columns=['id'])\n",
    "\n",
    "    team_dict = pd.read_csv('./data/processed/soccer/teams_dict.csv')\n",
    "    team_dict = team_dict.rename(columns={'Unnamed: 0': 'team_id', '0': 'id'})\n",
    "\n",
    "    matches = pd.merge(matches, team_dict, how='left', left_on='home_team_api_id', right_on='team_id')\n",
    "    matches = pd.merge(matches, team_dict, how='left', left_on='away_team_api_id', right_on='team_id')\n",
    "\n",
    "    match_pred = pd.merge(matches, preds, left_on=['id_x', 'id_y', 'ts'], right_on=['src_id', 'dst_id', 'ts'])\n",
    "    match_pred = match_pred.sort_values('prob', ascending=False).drop_duplicates('match_api_id')\n",
    "\n",
    "    match_pred['label'] = match_pred['home_team_goal'] - match_pred['away_team_goal']\n",
    "    match_pred.loc[match_pred['label'] > 0, 'label'] = 1\n",
    "    match_pred.loc[match_pred['label'] == 0, 'label'] = 2\n",
    "    match_pred.loc[match_pred['label'] < 0, 'label'] = 0\n",
    "\n",
    "'''LoL'''\n",
    "if DATA == 'lol':\n",
    "    all_files = glob.glob(os.path.join('./data/raw/lol', '*.csv'))\n",
    "    df = (pd.concat((pd.read_csv(f) for f in all_files), ignore_index=True)\n",
    "        .assign(ts = lambda _d: (pd.to_datetime(_d['date']).astype(int) / 10**9).astype('int64')))\n",
    "    home = df.loc[df['side'] == 'Blue', ['teamid', 'gameid', 'result', 'ts', 'gamelength']].dropna().drop_duplicates()\n",
    "    away = df.loc[df['side'] == 'Red', ['teamid', 'gameid']].dropna().drop_duplicates()\n",
    "\n",
    "    matches = home.merge(away, how='inner', on='gameid')\n",
    "    matches = matches.loc[matches['teamid_x'] != matches['teamid_y']]\n",
    "\n",
    "    team_dict = pd.read_csv('./data/processed/lol/teams_dict.csv')\n",
    "    team_dict = team_dict.rename(columns={'Unnamed: 0': 'team_id', '0': 'id'})\n",
    "\n",
    "    matches = pd.merge(matches, team_dict, how='left', left_on='teamid_x', right_on='team_id')\n",
    "    matches = pd.merge(matches, team_dict, how='left', left_on='teamid_y', right_on='team_id')\n",
    "\n",
    "    match_pred = pd.merge(matches, preds, left_on=['id_x', 'id_y', 'ts'], right_on=['src_id', 'dst_id', 'ts'])\n",
    "    match_pred = match_pred.sort_values('prob', ascending=False).drop_duplicates('gameid')\n",
    "\n",
    "    match_pred['label'] = match_pred['result']"
   ]
  },
  {
   "cell_type": "code",
   "execution_count": 7,
   "metadata": {},
   "outputs": [],
   "source": [
    "match_pred['correct'] = (match_pred['label'] == match_pred['lbl']).astype(int)"
   ]
  },
  {
   "cell_type": "code",
   "execution_count": 8,
   "metadata": {},
   "outputs": [
    {
     "name": "stderr",
     "output_type": "stream",
     "text": [
      "/var/folders/p0/cx2wcl6d7w79c__n36_zynk00000gn/T/ipykernel_17690/4015973368.py:2: FutureWarning: The default of observed=False is deprecated and will be changed to True in a future version of pandas. Pass observed=False to retain current behavior or observed=True to adopt the future default and silence this warning.\n",
      "  binned = match_pred.groupby('bin')['correct'].agg(['sum', 'count'])\n"
     ]
    }
   ],
   "source": [
    "match_pred['bin'] = pd.qcut(match_pred.sort_values('ts')['ts'], 30)\n",
    "binned = match_pred.groupby('bin')['correct'].agg(['sum', 'count'])\n",
    "binned['accuracy'] = binned['sum'] / binned['count']\n",
    "binned = binned.reset_index()\n",
    "binned['bin'] = binned['bin'].astype(str)"
   ]
  },
  {
   "cell_type": "code",
   "execution_count": 9,
   "metadata": {},
   "outputs": [
    {
     "data": {
      "text/html": [
       "\n",
       "<style>\n",
       "  #altair-viz-a970f32b13c44e81a935281cdbdb143e.vega-embed {\n",
       "    width: 100%;\n",
       "    display: flex;\n",
       "  }\n",
       "\n",
       "  #altair-viz-a970f32b13c44e81a935281cdbdb143e.vega-embed details,\n",
       "  #altair-viz-a970f32b13c44e81a935281cdbdb143e.vega-embed details summary {\n",
       "    position: relative;\n",
       "  }\n",
       "</style>\n",
       "<div id=\"altair-viz-a970f32b13c44e81a935281cdbdb143e\"></div>\n",
       "<script type=\"text/javascript\">\n",
       "  var VEGA_DEBUG = (typeof VEGA_DEBUG == \"undefined\") ? {} : VEGA_DEBUG;\n",
       "  (function(spec, embedOpt){\n",
       "    let outputDiv = document.currentScript.previousElementSibling;\n",
       "    if (outputDiv.id !== \"altair-viz-a970f32b13c44e81a935281cdbdb143e\") {\n",
       "      outputDiv = document.getElementById(\"altair-viz-a970f32b13c44e81a935281cdbdb143e\");\n",
       "    }\n",
       "    const paths = {\n",
       "      \"vega\": \"https://cdn.jsdelivr.net/npm/vega@5?noext\",\n",
       "      \"vega-lib\": \"https://cdn.jsdelivr.net/npm/vega-lib?noext\",\n",
       "      \"vega-lite\": \"https://cdn.jsdelivr.net/npm/vega-lite@5.16.3?noext\",\n",
       "      \"vega-embed\": \"https://cdn.jsdelivr.net/npm/vega-embed@6?noext\",\n",
       "    };\n",
       "\n",
       "    function maybeLoadScript(lib, version) {\n",
       "      var key = `${lib.replace(\"-\", \"\")}_version`;\n",
       "      return (VEGA_DEBUG[key] == version) ?\n",
       "        Promise.resolve(paths[lib]) :\n",
       "        new Promise(function(resolve, reject) {\n",
       "          var s = document.createElement('script');\n",
       "          document.getElementsByTagName(\"head\")[0].appendChild(s);\n",
       "          s.async = true;\n",
       "          s.onload = () => {\n",
       "            VEGA_DEBUG[key] = version;\n",
       "            return resolve(paths[lib]);\n",
       "          };\n",
       "          s.onerror = () => reject(`Error loading script: ${paths[lib]}`);\n",
       "          s.src = paths[lib];\n",
       "        });\n",
       "    }\n",
       "\n",
       "    function showError(err) {\n",
       "      outputDiv.innerHTML = `<div class=\"error\" style=\"color:red;\">${err}</div>`;\n",
       "      throw err;\n",
       "    }\n",
       "\n",
       "    function displayChart(vegaEmbed) {\n",
       "      vegaEmbed(outputDiv, spec, embedOpt)\n",
       "        .catch(err => showError(`Javascript Error: ${err.message}<br>This usually means there's a typo in your chart specification. See the javascript console for the full traceback.`));\n",
       "    }\n",
       "\n",
       "    if(typeof define === \"function\" && define.amd) {\n",
       "      requirejs.config({paths});\n",
       "      require([\"vega-embed\"], displayChart, err => showError(`Error loading script: ${err.message}`));\n",
       "    } else {\n",
       "      maybeLoadScript(\"vega\", \"5\")\n",
       "        .then(() => maybeLoadScript(\"vega-lite\", \"5.16.3\"))\n",
       "        .then(() => maybeLoadScript(\"vega-embed\", \"6\"))\n",
       "        .catch(showError)\n",
       "        .then(() => displayChart(vegaEmbed));\n",
       "    }\n",
       "  })({\"config\": {\"view\": {\"continuousWidth\": 300, \"continuousHeight\": 300}}, \"data\": {\"name\": \"data-3026d17432ecd9d7d514f00a869ad27e\"}, \"mark\": {\"type\": \"bar\"}, \"encoding\": {\"x\": {\"field\": \"bin\", \"type\": \"nominal\"}, \"y\": {\"field\": \"accuracy\", \"type\": \"quantitative\"}}, \"title\": \"Model Accuracy over Time\", \"$schema\": \"https://vega.github.io/schema/vega-lite/v5.16.3.json\", \"datasets\": {\"data-3026d17432ecd9d7d514f00a869ad27e\": [{\"bin\": \"(1411775999.999, 1413590400.0]\", \"sum\": 93, \"count\": 190, \"accuracy\": 0.48947368421052634}, {\"bin\": \"(1413590400.0, 1414800000.0]\", \"sum\": 84, \"count\": 162, \"accuracy\": 0.5185185185185185}, {\"bin\": \"(1414800000.0, 1416614400.0]\", \"sum\": 74, \"count\": 147, \"accuracy\": 0.5034013605442177}, {\"bin\": \"(1416614400.0, 1417824000.0]\", \"sum\": 68, \"count\": 162, \"accuracy\": 0.41975308641975306}, {\"bin\": \"(1417824000.0, 1419033600.0]\", \"sum\": 75, \"count\": 158, \"accuracy\": 0.47468354430379744}, {\"bin\": \"(1419033600.0, 1421452800.0]\", \"sum\": 85, \"count\": 185, \"accuracy\": 0.4594594594594595}, {\"bin\": \"(1421452800.0, 1422748800.0]\", \"sum\": 74, \"count\": 156, \"accuracy\": 0.47435897435897434}, {\"bin\": \"(1422748800.0, 1423958400.0]\", \"sum\": 68, \"count\": 166, \"accuracy\": 0.40963855421686746}, {\"bin\": \"(1423958400.0, 1425168000.0]\", \"sum\": 71, \"count\": 145, \"accuracy\": 0.4896551724137931}, {\"bin\": \"(1425168000.0, 1426896000.0]\", \"sum\": 98, \"count\": 196, \"accuracy\": 0.5}, {\"bin\": \"(1426896000.0, 1428710400.0]\", \"sum\": 71, \"count\": 148, \"accuracy\": 0.4797297297297297}, {\"bin\": \"(1428710400.0, 1430006400.0]\", \"sum\": 78, \"count\": 163, \"accuracy\": 0.4785276073619632}, {\"bin\": \"(1430006400.0, 1431734400.0]\", \"sum\": 82, \"count\": 166, \"accuracy\": 0.4939759036144578}, {\"bin\": \"(1431734400.0, 1438992000.0]\", \"sum\": 77, \"count\": 144, \"accuracy\": 0.5347222222222222}, {\"bin\": \"(1438992000.0, 1440806400.0]\", \"sum\": 84, \"count\": 195, \"accuracy\": 0.4307692307692308}, {\"bin\": \"(1440806400.0, 1442620800.0]\", \"sum\": 58, \"count\": 142, \"accuracy\": 0.4084507042253521}, {\"bin\": \"(1442620800.0, 1443830400.0]\", \"sum\": 92, \"count\": 187, \"accuracy\": 0.4919786096256685}, {\"bin\": \"(1443830400.0, 1445644800.0]\", \"sum\": 59, \"count\": 138, \"accuracy\": 0.427536231884058}, {\"bin\": \"(1445644800.0, 1446854400.0]\", \"sum\": 81, \"count\": 170, \"accuracy\": 0.4764705882352941}, {\"bin\": \"(1446854400.0, 1448755200.0]\", \"sum\": 76, \"count\": 171, \"accuracy\": 0.4444444444444444}, {\"bin\": \"(1448755200.0, 1449964800.0]\", \"sum\": 57, \"count\": 156, \"accuracy\": 0.36538461538461536}, {\"bin\": \"(1449964800.0, 1451692800.0]\", \"sum\": 75, \"count\": 151, \"accuracy\": 0.4966887417218543}, {\"bin\": \"(1451692800.0, 1453507200.0]\", \"sum\": 82, \"count\": 179, \"accuracy\": 0.4581005586592179}, {\"bin\": \"(1453507200.0, 1454716800.0]\", \"sum\": 83, \"count\": 164, \"accuracy\": 0.5060975609756098}, {\"bin\": \"(1454716800.0, 1456012800.0]\", \"sum\": 74, \"count\": 160, \"accuracy\": 0.4625}, {\"bin\": \"(1456012800.0, 1457136000.0]\", \"sum\": 76, \"count\": 147, \"accuracy\": 0.5170068027210885}, {\"bin\": \"(1457136000.0, 1458432000.0]\", \"sum\": 81, \"count\": 170, \"accuracy\": 0.4764705882352941}, {\"bin\": \"(1458432000.0, 1460764800.0]\", \"sum\": 86, \"count\": 174, \"accuracy\": 0.4942528735632184}, {\"bin\": \"(1460764800.0, 1461974400.0]\", \"sum\": 70, \"count\": 148, \"accuracy\": 0.47297297297297297}, {\"bin\": \"(1461974400.0, 1463443200.0]\", \"sum\": 69, \"count\": 159, \"accuracy\": 0.4339622641509434}]}}, {\"mode\": \"vega-lite\"});\n",
       "</script>"
      ],
      "text/plain": [
       "alt.Chart(...)"
      ]
     },
     "execution_count": 9,
     "metadata": {},
     "output_type": "execute_result"
    }
   ],
   "source": [
    "alt.Chart(binned).mark_bar().encode(\n",
    "    x='bin',\n",
    "    y='accuracy',\n",
    ").properties(title='Model Accuracy over Time')"
   ]
  },
  {
   "cell_type": "code",
   "execution_count": 10,
   "metadata": {},
   "outputs": [
    {
     "name": "stdout",
     "output_type": "stream",
     "text": [
      "[[ 614  843   28]\n",
      " [ 506 1660   35]\n",
      " [ 381  805   27]]\n"
     ]
    },
    {
     "data": {
      "image/png": "[encoded data removed]",
      "text/plain": [
       "<Figure size 640x480 with 2 Axes>"
      ]
     },
     "metadata": {},
     "output_type": "display_data"
    }
   ],
   "source": [
    "confusion_mat = confusion_matrix(match_pred['label'], match_pred['lbl'])\n",
    "print(confusion_mat)\n",
    "plot_confusion_matrix(confusion_mat, len(p_classes))"
   ]
  },
  {
   "cell_type": "code",
   "execution_count": 11,
   "metadata": {},
   "outputs": [
    {
     "name": "stdout",
     "output_type": "stream",
     "text": [
      "              precision    recall  f1-score   support\n",
      "\n",
      "           0       0.41      0.41      0.41      1485\n",
      "           1       0.50      0.75      0.60      2201\n",
      "           2       0.30      0.02      0.04      1213\n",
      "\n",
      "    accuracy                           0.47      4899\n",
      "   macro avg       0.40      0.40      0.35      4899\n",
      "weighted avg       0.42      0.47      0.41      4899\n",
      "\n"
     ]
    }
   ],
   "source": [
    "result_metrics = classification_report(match_pred['label'], match_pred['lbl'])\n",
    "print(result_metrics)"
   ]
  }
 ],
 "metadata": {
  "kernelspec": {
   "display_name": "venv",
   "language": "python",
   "name": "python3"
  },
  "language_info": {
   "codemirror_mode": {
    "name": "ipython",
    "version": 3
   },
   "file_extension": ".py",
   "mimetype": "text/x-python",
   "name": "python",
   "nbconvert_exporter": "python",
   "pygments_lexer": "ipython3",
   "version": "3.9.6"
  }
 },
 "nbformat": 4,
 "nbformat_minor": 2
}
