{
 "cells": [
  {
   "cell_type": "code",
   "execution_count": 1,
   "metadata": {},
   "outputs": [],
   "source": [
    "import pandas as pd\n",
    "import numpy as np\n",
    "import json"
   ]
  },
  {
   "cell_type": "code",
   "execution_count": 2,
   "metadata": {},
   "outputs": [
    {
     "name": "stderr",
     "output_type": "stream",
     "text": [
      "/tmp/ipykernel_5427/111288229.py:2: DtypeWarning: Columns (6) have mixed types. Specify dtype option on import or set low_memory=False.\n",
      "  players = pd.read_csv('./data/raw/nba/games_details.csv')\n"
     ]
    }
   ],
   "source": [
    "matches = pd.read_csv('./data/raw/nba/games.csv').assign(ts = lambda _d: (pd.to_datetime(_d['GAME_DATE_EST']).astype(int) / 10**9).astype(int))\n",
    "players = pd.read_csv('./data/raw/nba/games_details.csv')"
   ]
  },
  {
   "cell_type": "code",
   "execution_count": 3,
   "metadata": {},
   "outputs": [],
   "source": [
    "timestamps = matches[['GAME_ID', 'ts']].dropna().drop_duplicates()\n",
    "matches = matches[['HOME_TEAM_ID', 'VISITOR_TEAM_ID', 'HOME_TEAM_WINS', 'ts']].dropna().drop_duplicates()\n",
    "players = players.loc[players['COMMENT'].isna(), ['GAME_ID', 'TEAM_ID', 'PLAYER_ID']].dropna().drop_duplicates()\n",
    "gamelength = 2880"
   ]
  },
  {
   "cell_type": "code",
   "execution_count": 4,
   "metadata": {},
   "outputs": [],
   "source": [
    "players = (players\n",
    "           .merge(timestamps, on='GAME_ID', how='inner')\n",
    "           .rename(columns={'TEAM_ID': 'u', 'PLAYER_ID': 'v'})\n",
    "           [['u', 'v', 'ts']])"
   ]
  },
  {
   "cell_type": "code",
   "execution_count": 5,
   "metadata": {},
   "outputs": [],
   "source": [
    "matches = (matches\n",
    "           .assign(ts = lambda _d: _d['ts'] + gamelength)\n",
    "           .rename(columns={'HOME_TEAM_ID': 'u', 'VISITOR_TEAM_ID': 'v', 'HOME_TEAM_WINS': 'e_type'})\n",
    "           .assign(e_type = lambda _d: _d['e_type'] + 1)\n",
    "           .assign(u_type = 1)\n",
    "           .assign(v_type = 1)\n",
    "           .reset_index(drop=True))\n",
    "\n",
    "players = (players\n",
    "           .assign(u_type = 1)\n",
    "           .assign(v_type = 2)\n",
    "           .assign(e_type = 3)\n",
    "           .reset_index(drop=True))"
   ]
  },
  {
   "cell_type": "code",
   "execution_count": 6,
   "metadata": {},
   "outputs": [],
   "source": [
    "teams = pd.concat([matches['u'], matches['v']]).sort_values().unique()\n",
    "idx_teams = np.arange(len(teams))\n",
    "teams_dict = {teams[k]: k for k in idx_teams}\n",
    "\n",
    "player = players['v'].sort_values().unique()\n",
    "idx_player = np.arange(len(player))\n",
    "player_dict = {player[k]: k + len(teams) for k in idx_player}"
   ]
  },
  {
   "cell_type": "code",
   "execution_count": 7,
   "metadata": {},
   "outputs": [],
   "source": [
    "matches = (matches\n",
    "           .assign(u = lambda _d: _d['u'].map(lambda x: teams_dict[x]))\n",
    "           .assign(v = lambda _d: _d['v'].map(lambda x: teams_dict[x])))\n",
    "\n",
    "players = (players\n",
    "           .assign(u = lambda _d: _d['u'].map(lambda x: teams_dict[x]))\n",
    "           .assign(v = lambda _d: _d['v'].map(lambda x: player_dict[x])))"
   ]
  },
  {
   "cell_type": "code",
   "execution_count": 8,
   "metadata": {},
   "outputs": [],
   "source": [
    "events = pd.concat([matches, players]).sort_values('ts').reset_index(drop=True)"
   ]
  },
  {
   "cell_type": "code",
   "execution_count": 9,
   "metadata": {},
   "outputs": [],
   "source": [
    "NUM_NODE = len(player) + len(teams)\n",
    "NUM_EV = len(events)\n",
    "NUM_N_TYPE = 2\n",
    "NUM_E_TYPE = 3"
   ]
  },
  {
   "cell_type": "code",
   "execution_count": 10,
   "metadata": {},
   "outputs": [],
   "source": [
    "events = (events\n",
    "          .assign(e_idx = np.arange(1, NUM_EV + 1)))"
   ]
  },
  {
   "cell_type": "code",
   "execution_count": 11,
   "metadata": {},
   "outputs": [
    {
     "name": "stdout",
     "output_type": "stream",
     "text": [
      "num node: 2641\n",
      "num events: 585293\n"
     ]
    }
   ],
   "source": [
    "print(\"num node:\", NUM_NODE)\n",
    "print(\"num events:\", NUM_EV)\n",
    "events.to_csv('./data/processed/nba/events.csv', index=None)\n",
    "desc = {\n",
    "        \"num_node\": NUM_NODE,\n",
    "        \"num_edge\": NUM_EV,\n",
    "        \"num_node_type\": NUM_N_TYPE,\n",
    "        \"num_edge_type\": NUM_E_TYPE\n",
    "    }\n",
    "with open('./data/processed/nba/desc.json', 'w') as f:\n",
    "    json.dump(desc, f, indent=4)"
   ]
  }
 ],
 "metadata": {
  "kernelspec": {
   "display_name": "venv",
   "language": "python",
   "name": "python3"
  },
  "language_info": {
   "codemirror_mode": {
    "name": "ipython",
    "version": 3
   },
   "file_extension": ".py",
   "mimetype": "text/x-python",
   "name": "python",
   "nbconvert_exporter": "python",
   "pygments_lexer": "ipython3",
   "version": "3.10.12"
  }
 },
 "nbformat": 4,
 "nbformat_minor": 2
}
