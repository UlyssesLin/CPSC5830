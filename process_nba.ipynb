{
 "cells": [
  {
   "cell_type": "code",
   "execution_count": 1,
   "metadata": {},
   "outputs": [],
   "source": [
    "import pandas as pd\n",
    "import numpy as np\n",
    "import json"
   ]
  },
  {
   "cell_type": "code",
   "execution_count": 2,
   "metadata": {},
   "outputs": [],
   "source": [
    "OUT_DIR = './data/processed/nba'\n",
    "OUT_EV = f'{OUT_DIR}/events.csv'\n",
    "OUT_DESC = f'{OUT_DIR}/desc.json'\n",
    "OUT_EDGE_FEAT = f'{OUT_DIR}/edge_ft.npy'\n",
    "IN_DIR = './data/raw/nba'"
   ]
  },
  {
   "cell_type": "code",
   "execution_count": 3,
   "metadata": {},
   "outputs": [],
   "source": [
    "def calctime(time):\n",
    "    times = time.split(':')\n",
    "    if len(times) == 2:\n",
    "        return (60 * int(float(times[0]))) + int(float(times[1]))\n",
    "    elif len(times) == 1:\n",
    "        return (60 * int(float(times[0])))\n",
    "    else:\n",
    "        print(times)\n",
    "        return"
   ]
  },
  {
   "cell_type": "code",
   "execution_count": 4,
   "metadata": {},
   "outputs": [
    {
     "name": "stderr",
     "output_type": "stream",
     "text": [
      "/tmp/ipykernel_26558/779746932.py:2: DtypeWarning: Columns (6) have mixed types. Specify dtype option on import or set low_memory=False.\n",
      "  players = pd.read_csv('./data/raw/nba/games_details.csv')\n"
     ]
    }
   ],
   "source": [
    "matches = pd.read_csv('./data/raw/nba/games.csv').assign(ts = lambda _d: (pd.to_datetime(_d['GAME_DATE_EST']).astype(int) / 10**9).astype(int))\n",
    "players = pd.read_csv('./data/raw/nba/games_details.csv')\n",
    "\n",
    "matches_cols = ['SEASON', 'PTS_home', 'FG_PCT_home', 'FT_PCT_home', 'FG3_PCT_home',\n",
    "                'AST_home', 'REB_home', 'PTS_away', 'FG_PCT_away', 'FT_PCT_away',\n",
    "                'FG3_PCT_away', 'AST_away', 'REB_away']\n",
    "players_cols = ['MIN', 'FGM', 'FGA', 'FG_PCT', 'FG3M', 'FG3A', 'FG3_PCT', 'FTM',\n",
    "                'FTA', 'FT_PCT', 'OREB', 'DREB', 'REB', 'AST', 'STL', 'BLK', 'TO',\n",
    "                'PF', 'PTS', 'PLUS_MINUS']\n",
    "# matches_cols = ['SEASON', 'PTS_home', 'FG_PCT_home', 'FT_PCT_home', 'FG3_PCT_home',\n",
    "#                 'AST_home', 'REB_home', 'PTS_away', 'FG_PCT_away', 'FT_PCT_away',\n",
    "#                 'FG3_PCT_away', 'AST_away', 'REB_away']\n",
    "# players_cols = ['FGM', 'FGA', 'FG3M', 'FG3A', 'FTM',\n",
    "#                 'FTA', 'OREB', 'DREB', 'AST', 'STL', 'BLK', 'TO',\n",
    "#                 'PF', 'PTS', 'PLUS_MINUS']"
   ]
  },
  {
   "cell_type": "code",
   "execution_count": 5,
   "metadata": {},
   "outputs": [],
   "source": [
    "matchesfeat = matches[['HOME_TEAM_ID', 'VISITOR_TEAM_ID', 'HOME_TEAM_WINS', 'ts'] + matches_cols].dropna().drop_duplicates()\n",
    "playersfeat = players.loc[players['MIN'].notna(), ['GAME_ID', 'TEAM_ID', 'PLAYER_ID'] + players_cols].dropna().drop_duplicates()\n",
    "\n",
    "timestamps = matches[['GAME_ID', 'ts']].dropna().drop_duplicates()\n",
    "matches = matches[['HOME_TEAM_ID', 'VISITOR_TEAM_ID', 'HOME_TEAM_WINS', 'ts']].dropna().drop_duplicates()\n",
    "players = players.loc[players['MIN'].notna(), ['GAME_ID', 'TEAM_ID', 'PLAYER_ID']].dropna().drop_duplicates()\n",
    "gamelength = 2880"
   ]
  },
  {
   "cell_type": "code",
   "execution_count": 6,
   "metadata": {},
   "outputs": [],
   "source": [
    "players = (players\n",
    "           .merge(timestamps, on='GAME_ID', how='inner')\n",
    "           .rename(columns={'TEAM_ID': 'u', 'PLAYER_ID': 'v'})\n",
    "           [['u', 'v', 'ts']])"
   ]
  },
  {
   "cell_type": "code",
   "execution_count": 7,
   "metadata": {},
   "outputs": [],
   "source": [
    "playersfeat = (playersfeat\n",
    "               .merge(timestamps, on='GAME_ID', how='inner')\n",
    "               .rename(columns={'TEAM_ID': 'u', 'PLAYER_ID': 'v'})\n",
    "               .drop(columns=['GAME_ID']))"
   ]
  },
  {
   "cell_type": "code",
   "execution_count": 8,
   "metadata": {},
   "outputs": [],
   "source": [
    "playersfeat['MIN'] = playersfeat['MIN'].astype(str).apply(calctime)\n",
    "matchesfeat[matches_cols] = matchesfeat[matches_cols].apply(lambda x: (x - x.min()) / (x.max() - x.min()))\n",
    "playersfeat[players_cols] = playersfeat[players_cols].apply(lambda x: (x - x.min()) / (x.max() - x.min()))"
   ]
  },
  {
   "cell_type": "code",
   "execution_count": 9,
   "metadata": {},
   "outputs": [],
   "source": [
    "matches = (matches\n",
    "           .assign(ts = lambda _d: _d['ts'] + gamelength)\n",
    "           .rename(columns={'HOME_TEAM_ID': 'u', 'VISITOR_TEAM_ID': 'v', 'HOME_TEAM_WINS': 'e_type'})\n",
    "           .assign(e_type = lambda _d: _d['e_type'] + 1)\n",
    "           .assign(u_type = 1)\n",
    "           .assign(v_type = 1)\n",
    "           .reset_index(drop=True))\n",
    "\n",
    "players = (players\n",
    "           .assign(u_type = 1)\n",
    "           .assign(v_type = 2)\n",
    "           .assign(e_type = 3)\n",
    "           .reset_index(drop=True))"
   ]
  },
  {
   "cell_type": "code",
   "execution_count": 10,
   "metadata": {},
   "outputs": [],
   "source": [
    "matchesfeat = (matchesfeat\n",
    "               .assign(ts = lambda _d: _d['ts'] + gamelength + 1)\n",
    "               .rename(columns={'HOME_TEAM_ID': 'u', 'VISITOR_TEAM_ID': 'v', 'HOME_TEAM_WINS': 'e_type'})\n",
    "               .assign(e_type = 4)\n",
    "               .assign(u_type = 1)\n",
    "               .assign(v_type = 1)\n",
    "               .reset_index(drop=True))\n",
    "\n",
    "playersfeat = (playersfeat\n",
    "               .assign(ts = lambda _d: _d['ts'] + gamelength + 1)\n",
    "               .assign(u_type = 1)\n",
    "               .assign(v_type = 2)\n",
    "               .assign(e_type = 4)\n",
    "               .reset_index(drop=True))"
   ]
  },
  {
   "cell_type": "code",
   "execution_count": 11,
   "metadata": {},
   "outputs": [],
   "source": [
    "teams = pd.concat([matches['u'], matches['v']]).sort_values().unique()\n",
    "idx_teams = np.arange(len(teams))\n",
    "teams_dict = {teams[k]: k for k in idx_teams}\n",
    "\n",
    "player = players['v'].sort_values().unique()\n",
    "idx_player = np.arange(len(player))\n",
    "player_dict = {player[k]: k + len(teams) for k in idx_player}"
   ]
  },
  {
   "cell_type": "code",
   "execution_count": 12,
   "metadata": {},
   "outputs": [],
   "source": [
    "matches = (matches\n",
    "           .assign(u = lambda _d: _d['u'].map(lambda x: teams_dict[x]))\n",
    "           .assign(v = lambda _d: _d['v'].map(lambda x: teams_dict[x])))\n",
    "\n",
    "players = (players\n",
    "           .assign(u = lambda _d: _d['u'].map(lambda x: teams_dict[x]))\n",
    "           .assign(v = lambda _d: _d['v'].map(lambda x: player_dict[x])))"
   ]
  },
  {
   "cell_type": "code",
   "execution_count": 13,
   "metadata": {},
   "outputs": [],
   "source": [
    "matchesfeat = (matchesfeat\n",
    "           .assign(u = lambda _d: _d['u'].map(lambda x: teams_dict[x]))\n",
    "           .assign(v = lambda _d: _d['v'].map(lambda x: teams_dict[x])))\n",
    "\n",
    "playersfeat = (playersfeat\n",
    "           .assign(u = lambda _d: _d['u'].map(lambda x: teams_dict[x]))\n",
    "           .assign(v = lambda _d: _d['v'].map(lambda x: player_dict[x])))"
   ]
  },
  {
   "cell_type": "code",
   "execution_count": 14,
   "metadata": {},
   "outputs": [],
   "source": [
    "events = pd.concat([matches, players, matchesfeat, playersfeat]).sort_values('ts').reset_index(drop=True).fillna(0)"
   ]
  },
  {
   "cell_type": "code",
   "execution_count": 15,
   "metadata": {},
   "outputs": [],
   "source": [
    "e_ft = events.iloc[:, 6:].values\n",
    "max_dim = e_ft.shape[1]\n",
    "max_dim = max_dim + 4 - (max_dim % 4)\n",
    "empty = np.zeros((e_ft.shape[0], max_dim-e_ft.shape[1]))\n",
    "e_ft = np.hstack([e_ft, empty])\n",
    "e_feat = np.vstack([np.zeros(max_dim), e_ft])"
   ]
  },
  {
   "cell_type": "code",
   "execution_count": 16,
   "metadata": {},
   "outputs": [
    {
     "data": {
      "text/plain": [
       "(1147122, 36)"
      ]
     },
     "execution_count": 16,
     "metadata": {},
     "output_type": "execute_result"
    }
   ],
   "source": [
    "e_feat.shape"
   ]
  },
  {
   "cell_type": "code",
   "execution_count": 17,
   "metadata": {},
   "outputs": [
    {
     "data": {
      "text/plain": [
       "array([[0., 0., 0., ..., 0., 0., 0.],\n",
       "       [0., 0., 0., ..., 0., 0., 0.],\n",
       "       [0., 0., 0., ..., 0., 0., 0.],\n",
       "       ...,\n",
       "       [0., 0., 0., ..., 0., 0., 0.],\n",
       "       [0., 0., 0., ..., 0., 0., 0.],\n",
       "       [0., 0., 0., ..., 0., 0., 0.]])"
      ]
     },
     "execution_count": 17,
     "metadata": {},
     "output_type": "execute_result"
    }
   ],
   "source": [
    "e_feat"
   ]
  },
  {
   "cell_type": "code",
   "execution_count": 18,
   "metadata": {},
   "outputs": [],
   "source": [
    "NUM_NODE = len(player) + len(teams)\n",
    "NUM_EV = len(events)\n",
    "NUM_N_TYPE = 2\n",
    "NUM_E_TYPE = 4"
   ]
  },
  {
   "cell_type": "code",
   "execution_count": 19,
   "metadata": {},
   "outputs": [],
   "source": [
    "events = (events\n",
    "          .assign(e_idx = np.arange(1, NUM_EV + 1))\n",
    "          [['u', 'v', 'u_type', 'v_type', 'e_type', 'ts', 'e_idx']])"
   ]
  },
  {
   "cell_type": "code",
   "execution_count": 20,
   "metadata": {},
   "outputs": [
    {
     "name": "stdout",
     "output_type": "stream",
     "text": [
      "num node: 2641\n",
      "num events: 1147121\n"
     ]
    }
   ],
   "source": [
    "print(\"num node:\", NUM_NODE)\n",
    "print(\"num events:\", NUM_EV)\n",
    "np.save(OUT_EDGE_FEAT, e_feat)\n",
    "events.to_csv('./data/processed/nba/events.csv', index=None)\n",
    "desc = {\n",
    "        \"num_node\": NUM_NODE,\n",
    "        \"num_edge\": NUM_EV,\n",
    "        \"num_node_type\": NUM_N_TYPE,\n",
    "        \"num_edge_type\": NUM_E_TYPE\n",
    "    }\n",
    "with open('./data/processed/nba/desc.json', 'w') as f:\n",
    "    json.dump(desc, f, indent=4)"
   ]
  }
 ],
 "metadata": {
  "kernelspec": {
   "display_name": "venv",
   "language": "python",
   "name": "python3"
  },
  "language_info": {
   "codemirror_mode": {
    "name": "ipython",
    "version": 3
   },
   "file_extension": ".py",
   "mimetype": "text/x-python",
   "name": "python",
   "nbconvert_exporter": "python",
   "pygments_lexer": "ipython3",
   "version": "3.10.12"
  }
 },
 "nbformat": 4,
 "nbformat_minor": 2
}
