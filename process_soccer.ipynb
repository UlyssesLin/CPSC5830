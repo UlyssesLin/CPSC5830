{
 "cells": [
  {
   "cell_type": "code",
   "execution_count": 1,
   "metadata": {},
   "outputs": [],
   "source": [
    "import pandas as pd\n",
    "import numpy as np\n",
    "import json\n",
    "import os"
   ]
  },
  {
   "cell_type": "code",
   "execution_count": 2,
   "metadata": {},
   "outputs": [],
   "source": [
    "OUT_DIR = './data/processed/soccer'\n",
    "OUT_EV = f'{OUT_DIR}/events.csv'\n",
    "OUT_DESC = f'{OUT_DIR}/desc.json'\n",
    "OUT_EDGE_FEAT = f'{OUT_DIR}/edge_ft.npy'\n",
    "IN_DIR = './data/raw/soccer'"
   ]
  },
  {
   "cell_type": "code",
   "execution_count": 3,
   "metadata": {},
   "outputs": [],
   "source": [
    "matches = pd.read_csv(f'{IN_DIR}/matches.csv').assign(ts = lambda _d: (pd.to_datetime(_d['date']).astype(int) / 10**9).astype(int))"
   ]
  },
  {
   "cell_type": "code",
   "execution_count": 4,
   "metadata": {},
   "outputs": [],
   "source": [
    "home_player = matches[['match_api_id', 'home_team_api_id', 'home_player_1', 'home_player_2', 'home_player_3', 'home_player_4', 'home_player_5', 'home_player_6', 'home_player_7', 'home_player_8', 'home_player_9', 'home_player_10', 'home_player_11', 'ts']]\n",
    "away_player = matches[['match_api_id', 'away_team_api_id', 'away_player_1', 'away_player_2', 'away_player_3', 'away_player_4', 'away_player_5', 'away_player_6', 'away_player_7', 'away_player_8', 'away_player_9', 'away_player_10', 'away_player_11', 'ts']]"
   ]
  },
  {
   "cell_type": "code",
   "execution_count": 5,
   "metadata": {},
   "outputs": [],
   "source": [
    "matches = pd.merge(matches, pd.melt(home_player, id_vars=['match_api_id', 'home_team_api_id', 'ts']).groupby(['match_api_id', 'home_team_api_id', 'ts']).nunique()['value'], on='match_api_id')\n",
    "matches = pd.merge(matches, pd.melt(away_player, id_vars=['match_api_id', 'away_team_api_id', 'ts']).groupby(['match_api_id', 'away_team_api_id', 'ts']).nunique()['value'], on='match_api_id')"
   ]
  },
  {
   "cell_type": "code",
   "execution_count": 6,
   "metadata": {},
   "outputs": [],
   "source": [
    "matches = matches.loc[(matches['value_x'] == 11) & (matches['value_y'] == 11) & \n",
    "                      (matches['B365H'].notna()) & (matches['BWH'].notna()) & \n",
    "                      (matches['IWH'].notna()) & (matches['LBH'].notna())].reset_index(drop=True)\n",
    "home_player = matches[['match_api_id', 'home_team_api_id', 'home_player_1', \n",
    "                       'home_player_2', 'home_player_3', 'home_player_4', \n",
    "                       'home_player_5', 'home_player_6', 'home_player_7', \n",
    "                       'home_player_8', 'home_player_9', 'home_player_10', \n",
    "                       'home_player_11', 'ts']]\n",
    "away_player = matches[['match_api_id', 'away_team_api_id', 'away_player_1', \n",
    "                       'away_player_2', 'away_player_3', 'away_player_4', \n",
    "                       'away_player_5', 'away_player_6', 'away_player_7', \n",
    "                       'away_player_8', 'away_player_9', 'away_player_10', \n",
    "                       'away_player_11', 'ts']]"
   ]
  },
  {
   "cell_type": "code",
   "execution_count": 7,
   "metadata": {},
   "outputs": [],
   "source": [
    "home_player = pd.melt(home_player, id_vars=['match_api_id', 'home_team_api_id', 'ts'])\n",
    "away_player = pd.melt(away_player, id_vars=['match_api_id', 'away_team_api_id', 'ts'])"
   ]
  },
  {
   "cell_type": "code",
   "execution_count": 8,
   "metadata": {},
   "outputs": [],
   "source": [
    "players = pd.concat([home_player.rename(columns={'home_team_api_id': 'team_id'}), away_player.rename(columns={'away_team_api_id': 'team_id'})])"
   ]
  },
  {
   "cell_type": "code",
   "execution_count": 9,
   "metadata": {},
   "outputs": [],
   "source": [
    "matches['result'] = matches['home_team_goal'] - matches['away_team_goal']\n",
    "matches.loc[matches['result'] > 0, 'result'] = 2\n",
    "matches.loc[matches['result'] == 0, 'result'] = 3\n",
    "matches.loc[matches['result'] < 0, 'result'] = 1"
   ]
  },
  {
   "cell_type": "code",
   "execution_count": 10,
   "metadata": {},
   "outputs": [],
   "source": [
    "matches = (matches\n",
    "           .rename(columns={'home_team_api_id': 'u', 'away_team_api_id': 'v', 'result': 'e_type'})\n",
    "           .assign(u_type = 1)\n",
    "           .assign(v_type = 1)\n",
    "           .reset_index(drop=True)\n",
    "           [['u', 'v', 'ts', 'e_type', 'u_type', 'v_type']])\n",
    "\n",
    "players = (players\n",
    "           .assign(e_type = 4)\n",
    "           .assign(u_type = 1)\n",
    "           .assign(v_type = 2)\n",
    "           .rename(columns={'team_id': 'u', 'value': 'v'})\n",
    "           .reset_index(drop=True)\n",
    "           [['u', 'v', 'ts', 'e_type', 'u_type', 'v_type']])\n",
    "\n",
    "matches = (matches\n",
    "           .assign(ts = lambda _d: _d['ts'] + 1))"
   ]
  },
  {
   "cell_type": "code",
   "execution_count": 11,
   "metadata": {},
   "outputs": [],
   "source": [
    "# matchmap = pd.DataFrame(np.concatenate((matches[['u', 'ts']].values, matches[['v', 'ts']].values))).sort_values(1).reset_index(drop=True).reset_index()\n",
    "# matches['u'] = pd.merge(matches, matchmap, left_on=['u', 'ts'], right_on=[0, 1], how='left')['index']\n",
    "# matches['v'] = pd.merge(matches, matchmap, left_on=['v', 'ts'], right_on=[0, 1], how='left')['index']\n",
    "# players['u'] = pd.merge(players, matchmap, left_on=['u', 'ts'], right_on=[0, 1], how='left')['index']\n",
    "\n",
    "# pastmatches = pd.merge(matchmap, matchmap, on=0)\n",
    "# pastmatches = pastmatches.loc[pastmatches['index_y'] < pastmatches['index_x']].drop_duplicates(['index_x'], keep='last')\n",
    "\n",
    "# matches = (matches\n",
    "#            .assign(ts = lambda _d: _d['ts'] + 1))\n",
    "\n",
    "# pastmatches = (pastmatches\n",
    "#            .assign(e_type = 5)\n",
    "#            .assign(u_type = 1)\n",
    "#            .assign(v_type = 1)\n",
    "#            .rename(columns={'index_x': 'u', 'index_y': 'v', '1_x': 'ts'})\n",
    "#            .reset_index(drop=True)\n",
    "#            [['u', 'v', 'ts', 'e_type', 'u_type', 'v_type']])\n",
    "\n",
    "# player = players['v'].sort_values().unique()\n",
    "# idx_player = np.arange(len(player))\n",
    "# player_dict = {player[k]: k + len(matchmap) for k in idx_player}\n",
    "\n",
    "# players = (players\n",
    "#             .assign(v = lambda _d: _d['v'].map(lambda x: player_dict[x])))"
   ]
  },
  {
   "cell_type": "code",
   "execution_count": 12,
   "metadata": {},
   "outputs": [],
   "source": [
    "teams = pd.concat([matches['u'], matches['v']]).sort_values().unique()\n",
    "idx_teams = np.arange(len(teams))\n",
    "teams_dict = {teams[k]: k for k in idx_teams}\n",
    "\n",
    "player = players['v'].sort_values().unique()\n",
    "idx_player = np.arange(len(player))\n",
    "player_dict = {player[k]: k + len(teams) for k in idx_player}\n",
    "\n",
    "matches = (matches\n",
    "           .assign(u = lambda _d: _d['u'].map(lambda x: teams_dict[x]))\n",
    "           .assign(v = lambda _d: _d['v'].map(lambda x: teams_dict[x])))\n",
    "\n",
    "players = (players\n",
    "           .assign(u = lambda _d: _d['u'].map(lambda x: teams_dict[x]))\n",
    "           .assign(v = lambda _d: _d['v'].map(lambda x: player_dict[x])))"
   ]
  },
  {
   "cell_type": "code",
   "execution_count": 13,
   "metadata": {},
   "outputs": [],
   "source": [
    "pd.DataFrame.from_dict(player_dict, orient='index').to_csv(f'{OUT_DIR}/player_dict.csv')\n",
    "pd.DataFrame.from_dict(teams_dict, orient='index').to_csv(f'{OUT_DIR}/teams_dict.csv')"
   ]
  },
  {
   "cell_type": "code",
   "execution_count": 14,
   "metadata": {},
   "outputs": [],
   "source": [
    "events = pd.concat([matches, players]).sort_values('ts').reset_index(drop=True)"
   ]
  },
  {
   "cell_type": "code",
   "execution_count": 15,
   "metadata": {},
   "outputs": [],
   "source": [
    "NUM_NODE = len(player) + len(teams)\n",
    "NUM_EV = len(events)\n",
    "NUM_N_TYPE = 2\n",
    "NUM_E_TYPE = 4\n",
    "CLASSES = [1, 2, 3]"
   ]
  },
  {
   "cell_type": "code",
   "execution_count": 16,
   "metadata": {},
   "outputs": [],
   "source": [
    "events = (events\n",
    "          .assign(e_idx = np.arange(1, NUM_EV + 1))\n",
    "          [['u', 'v', 'u_type', 'v_type', 'e_type', 'ts', 'e_idx']])"
   ]
  },
  {
   "cell_type": "code",
   "execution_count": 17,
   "metadata": {},
   "outputs": [
    {
     "name": "stdout",
     "output_type": "stream",
     "text": [
      "num node: 9947\n",
      "num events: 450593\n"
     ]
    }
   ],
   "source": [
    "print(\"num node:\", NUM_NODE)\n",
    "print(\"num events:\", NUM_EV)\n",
    "events.to_csv(OUT_EV, index=None)\n",
    "desc = {\n",
    "        \"num_node\": NUM_NODE,\n",
    "        \"num_edge\": NUM_EV,\n",
    "        \"num_node_type\": NUM_N_TYPE,\n",
    "        \"num_edge_type\": NUM_E_TYPE,\n",
    "        \"classes\": CLASSES\n",
    "    }\n",
    "with open(OUT_DESC, 'w') as f:\n",
    "    json.dump(desc, f, indent=4)"
   ]
  }
 ],
 "metadata": {
  "kernelspec": {
   "display_name": "venv",
   "language": "python",
   "name": "python3"
  },
  "language_info": {
   "codemirror_mode": {
    "name": "ipython",
    "version": 3
   },
   "file_extension": ".py",
   "mimetype": "text/x-python",
   "name": "python",
   "nbconvert_exporter": "python",
   "pygments_lexer": "ipython3",
   "version": "3.10.12"
  }
 },
 "nbformat": 4,
 "nbformat_minor": 2
}
